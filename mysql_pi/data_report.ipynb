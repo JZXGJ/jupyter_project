{
 "cells": [
  {
   "cell_type": "code",
   "execution_count": null,
   "id": "documented-amazon",
   "metadata": {},
   "outputs": [],
   "source": [
    "import mysqlpi\n",
    "from mysqlpi import get_control_data, get_dynamics_data\n",
    "import numpy as np\n",
    "import matplotlib.pyplot as plt\n",
    "%config InlineBackend.figure_format = 'svg'\n",
    "\n",
    "# column_name = mysqlpi.get_control_data_name()\n",
    "# for i in range(len(column_name)):\n",
    "#     print(i, column_name[i])"
   ]
  },
  {
   "cell_type": "code",
   "execution_count": null,
   "id": "binding-voluntary",
   "metadata": {},
   "outputs": [],
   "source": [
    "total_cnt = get_control_data('att_mandate_att_total_cnt')\n",
    "time_lime = total_cnt * 0.25"
   ]
  },
  {
   "cell_type": "markdown",
   "id": "simple-dominican",
   "metadata": {},
   "source": [
    "# 姿态角分析"
   ]
  },
  {
   "cell_type": "markdown",
   "id": "lasting-chamber",
   "metadata": {},
   "source": [
    "# 角速度分析"
   ]
  },
  {
   "cell_type": "code",
   "execution_count": null,
   "id": "beginning-tribune",
   "metadata": {},
   "outputs": [],
   "source": [
    "omega_BI_B_meas = get_control_data('\\\n",
    "vGyro_omega_BI_B_data_x, \\\n",
    "vGyro_omega_BI_B_data_y, \\\n",
    "vGyro_omega_BI_B_data_z')\n",
    "omega_BI_B_true = get_dynamics_data('\\\n",
    "real_out_omega_b_x, \\\n",
    "real_out_omega_b_y, \\\n",
    "real_out_omega_b_z')\n",
    "omega_BI_B_target = get_control_data('\\\n",
    "Sat_target_omega_TI_T_data_x, \\\n",
    "Sat_target_omega_TI_T_data_y, \\\n",
    "Sat_target_omega_TI_T_data_z')"
   ]
  },
  {
   "cell_type": "markdown",
   "id": "returning-peeing",
   "metadata": {},
   "source": [
    "## 角速度测量精度"
   ]
  },
  {
   "cell_type": "code",
   "execution_count": null,
   "id": "derived-printer",
   "metadata": {},
   "outputs": [],
   "source": [
    "fig, ax = plt.subplots()\n",
    "lines = ax.plot(time_lime, np.rad2deg(omega_BI_B_meas - omega_BI_B_true))\n",
    "ax.set_xlabel('time (s)')\n",
    "ax.set_ylabel('gyro output (deg/s)')\n",
    "ax.legend(lines, ['$\\Delta\\omega_x$','$\\Delta\\omega_y$','$\\Delta\\omega_z$'])\n",
    "ax.grid()\n",
    "fig.show()"
   ]
  },
  {
   "cell_type": "markdown",
   "id": "interior-berkeley",
   "metadata": {},
   "source": [
    "## 角速度控制精度（稳定性）"
   ]
  },
  {
   "cell_type": "code",
   "execution_count": null,
   "id": "aggregate-constant",
   "metadata": {},
   "outputs": [],
   "source": [
    "delta_omega = omega_BI_B_true - omega_BI_B_target\n",
    "steady_range = np.arange(int(1500), int(2000))\n",
    "lines = plt.plot(time_lime[steady_range], np.rad2deg(delta_omega[steady_range]))\n",
    "plt.xlabel('time (s)')\n",
    "plt.ylabel('gyro output (deg/s)')\n",
    "plt.legend(lines, ['$\\Delta\\omega_x$','$\\Delta\\omega_y$','$\\Delta\\omega_z$'])\n",
    "plt.grid()\n",
    "plt.show()"
   ]
  },
  {
   "cell_type": "code",
   "execution_count": null,
   "id": "numerous-router",
   "metadata": {},
   "outputs": [],
   "source": [
    "fig.savefig('result.jpg', dpi=150)"
   ]
  },
  {
   "cell_type": "code",
   "execution_count": null,
   "id": "refined-shannon",
   "metadata": {},
   "outputs": [],
   "source": []
  }
 ],
 "metadata": {
  "kernelspec": {
   "display_name": "Python 3",
   "language": "python",
   "name": "python3"
  },
  "language_info": {
   "codemirror_mode": {
    "name": "ipython",
    "version": 3
   },
   "file_extension": ".py",
   "mimetype": "text/x-python",
   "name": "python",
   "nbconvert_exporter": "python",
   "pygments_lexer": "ipython3",
   "version": "3.7.3"
  },
  "toc-autonumbering": true,
  "toc-showcode": true,
  "toc-showmarkdowntxt": false
 },
 "nbformat": 4,
 "nbformat_minor": 5
}
