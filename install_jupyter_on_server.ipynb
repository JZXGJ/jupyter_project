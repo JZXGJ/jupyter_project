{
 "cells": [
  {
   "cell_type": "markdown",
   "metadata": {},
   "source": [
    "# Step 1 — Set Up Python\n",
    "We first need to update the local apt package index and then download and install the packages:\n",
    "\n",
    "` sudo apt update `\n",
    "\n",
    "Next, install pip and the Python header files, which are used by some of Jupyter’s dependencies:\n",
    "\n",
    "` sudo apt install python3-pip python3-dev `\n",
    "\n",
    "# Step 2 — Create a Python Virtual Environment for Jupyter\n",
    "Now that we have Python 3, its header files, and pip ready to go, we can create a Python virtual environment to manage our projects. We will install Jupyter into this virtual environment.\n",
    "\n",
    "To do this, we first need access to the `virtualenv`command which we can install with pip.\n",
    "\n",
    "Upgrade pip and install the package by typing:\n",
    "\n",
    "`$ sudo -H pip3 install --upgrade pip`\n",
    "\n",
    "`$ sudo -H pip3 install virtualenv`\n",
    "\n",
    "`$ mkdir ~/my_project_dir`\n",
    "\n",
    "`$ cd ~/my_project_dir`\n",
    "\n",
    "`$ virtualenv my_project_env`\n",
    "\n",
    "`$ source my_project_env/bin/activate`\n",
    "\n",
    "# Step 3 — Install Jupyter\n",
    "\n",
    "` $ pip install jupyter `\n",
    "\n",
    "# step 4 — Jupyter Notebook config\n",
    "\n",
    "`$ jupyter notebook --generate-config`\n",
    "\n",
    "`$ vim ~/.jupyter/jupyter_notebook_config.py`\n",
    "\n",
    "```\n",
    "c.NotebookApp.ip = '*' #所有绑定服务器的IP都能访问，若想只在特定ip访问，输入ip地址即可\n",
    "#c.NotebookApp.port = 6666 #将端口设置为自己喜欢的吧，默认是8888\n",
    "c.NotebookApp.open_browser = False #我们并不想在服务器上直接打开Jupyter Notebook，所以设置成False\n",
    "#c.NotebookApp.notebook_dir = '/root/jupyter_projects' #这里是设置Jupyter的根目录，若不设置将默认root的根目录，不安全\n",
    "c.NotebookApp.allow_root = True # 为了安全，Jupyter默认不允许以root权限启动jupyter \n",
    "```\n",
    "\n",
    "`$ python -m pip install  numpy scipy matplotlib `\n",
    "\n",
    "# step 5 — Run Jupyter Notebook\n",
    "\n",
    "`$ jupyter notebook `\n",
    "\n",
    "put the process into the background by using:\n",
    "\n",
    "`$ jupyter notebook & `"
   ]
  },
  {
   "cell_type": "code",
   "execution_count": null,
   "metadata": {},
   "outputs": [],
   "source": []
  }
 ],
 "metadata": {
  "kernelspec": {
   "display_name": "Python 3",
   "language": "python",
   "name": "python3"
  },
  "language_info": {
   "codemirror_mode": {
    "name": "ipython",
    "version": 3
   },
   "file_extension": ".py",
   "mimetype": "text/x-python",
   "name": "python",
   "nbconvert_exporter": "python",
   "pygments_lexer": "ipython3",
   "version": "3.5.3"
  }
 },
 "nbformat": 4,
 "nbformat_minor": 4
}
