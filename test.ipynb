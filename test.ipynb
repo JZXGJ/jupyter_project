{
 "cells": [
  {
   "cell_type": "code",
   "execution_count": 1,
   "metadata": {},
   "outputs": [],
   "source": [
    "import matplotlib as mpl\n",
    "import matplotlib.pyplot as plt\n",
    "import numpy as np\n",
    "\n",
    "#%matplotlib inline\n",
    "#%config InlineBackend.figure_format = 'svg'"
   ]
  },
  {
   "cell_type": "code",
   "execution_count": 2,
   "metadata": {},
   "outputs": [
    {
     "data": {
      "image/png": "[encoded data removed]",
      "text/plain": [
       "<Figure size 432x288 with 1 Axes>"
      ]
     },
     "metadata": {
      "needs_background": "light"
     },
     "output_type": "display_data"
    }
   ],
   "source": [
    "x = np.linspace(0, 20, 100)  # Create a list of evenly-spaced numbers over the range\n",
    "plt.plot(x, np.cos(x), '-o') # Plot the sine of each x point\n",
    "plt.show()                   # Display the plot"
   ]
  },
  {
   "cell_type": "code",
   "execution_count": 3,
   "metadata": {},
   "outputs": [
    {
     "name": "stdout",
     "output_type": "stream",
     "text": [
      "1 2 3 4 5 6 7 8 9 10 11 12 13 14 15 16 17 18 19 20 "
     ]
    }
   ],
   "source": [
    "for i in range(1,21):\n",
    "    print(i, end=\" \")"
   ]
  },
  {
   "cell_type": "code",
   "execution_count": 4,
   "metadata": {},
   "outputs": [
    {
     "name": "stdout",
     "output_type": "stream",
     "text": [
      "0 1 1 2 3 5 8 13 21 34 55 89 144 \n"
     ]
    }
   ],
   "source": [
    "def fib(n):    # write Fibonacci series up to n\n",
    "    \"\"\"Print a Fibonacci series up to n.\"\"\"\n",
    "    i = 0\n",
    "    #y = np.array\n",
    "    a, b = 0, 1\n",
    "    while a < n:\n",
    "        print(a, end=' ')\n",
    "        a, b = b, a+b\n",
    "        i = i+1\n",
    "    print()\n",
    "\n",
    "    \n",
    "    \n",
    "# Now call the function we just defined:\n",
    "fib(200)"
   ]
  },
  {
   "cell_type": "code",
   "execution_count": 5,
   "metadata": {},
   "outputs": [
    {
     "name": "stdout",
     "output_type": "stream",
     "text": [
      "[1, 4, 3]\n",
      "[1, 4, 3]\n"
     ]
    }
   ],
   "source": [
    "a = [1,2,3]\n",
    "\n",
    "def foo(a):\n",
    "    a[1] = 4\n",
    "    return a\n",
    "\n",
    "print(foo(a))\n",
    "print(a)"
   ]
  },
  {
   "cell_type": "code",
   "execution_count": 6,
   "metadata": {},
   "outputs": [
    {
     "data": {
      "text/plain": [
       "958799.9999999999"
      ]
     },
     "execution_count": 6,
     "metadata": {},
     "output_type": "execute_result"
    }
   ],
   "source": [
    "10 * 0.06e-2 * 7.99e-2 * 20e8"
   ]
  },
  {
   "cell_type": "code",
   "execution_count": 7,
   "metadata": {},
   "outputs": [
    {
     "name": "stdout",
     "output_type": "stream",
     "text": [
      "1024\n",
      "1048576\n",
      "1073741824\n",
      "1099511627776\n"
     ]
    }
   ],
   "source": [
    "print(2**10)\n",
    "print(2**20)\n",
    "print(2**30)\n",
    "print(2**40)\n"
   ]
  },
  {
   "cell_type": "code",
   "execution_count": 19,
   "metadata": {},
   "outputs": [
    {
     "name": "stdout",
     "output_type": "stream",
     "text": [
      "59904000.0\n",
      "29952000.0\n",
      "19968000.0\n",
      "14976000.0\n",
      "11980800.0\n",
      "9984000.0\n",
      "7488000.0\n",
      "6656000.0\n",
      "5990400.0\n",
      "4992000.0\n",
      "4608000.0\n",
      "3993600.0\n",
      "3744000.0\n",
      "3328000.0\n",
      "2995200.0\n",
      "2496000.0\n",
      "2396160.0\n",
      "2304000.0\n",
      "1996800.0\n",
      "1872000.0\n",
      "1664000.0\n",
      "1536000.0\n",
      "1497600.0\n",
      "1331200.0\n",
      "1248000.0\n",
      "1198080.0\n",
      "1152000.0\n",
      "998400.0\n",
      "936000.0\n",
      "921600.0\n",
      "832000.0\n",
      "798720.0\n",
      "768000.0\n",
      "748800.0\n",
      "665600.0\n",
      "624000.0\n",
      "599040.0\n",
      "576000.0\n",
      "512000.0\n",
      "499200.0\n",
      "479232.0\n",
      "468000.0\n",
      "460800.0\n",
      "416000.0\n",
      "399360.0\n",
      "384000.0\n",
      "374400.0\n",
      "332800.0\n",
      "312000.0\n",
      "307200.0\n",
      "299520.0\n",
      "288000.0\n",
      "266240.0\n",
      "256000.0\n",
      "249600.0\n",
      "239616.0\n",
      "234000.0\n",
      "230400.0\n",
      "208000.0\n",
      "199680.0\n",
      "192000.0\n",
      "187200.0\n",
      "184320.0\n",
      "166400.0\n",
      "159744.0\n",
      "156000.0\n",
      "153600.0\n",
      "149760.0\n",
      "144000.0\n",
      "133120.0\n",
      "128000.0\n",
      "124800.0\n",
      "119808.0\n",
      "117000.0\n",
      "115200.0\n",
      "104000.0\n",
      "102400.0\n",
      "99840.0\n",
      "96000.0\n",
      "93600.0\n",
      "92160.0\n",
      "83200.0\n",
      "79872.0\n",
      "78000.0\n",
      "76800.0\n",
      "74880.0\n",
      "72000.0\n",
      "66560.0\n",
      "64000.0\n",
      "62400.0\n",
      "61440.0\n",
      "59904.0\n"
     ]
    }
   ],
   "source": [
    "for i in range(1000):\n",
    "    if 59904000 % (i+1) == 0:\n",
    "        print(59904000/(i+1))"
   ]
  },
  {
   "cell_type": "code",
   "execution_count": 18,
   "metadata": {},
   "outputs": [
    {
     "data": {
      "text/plain": [
       "-0.0204081632653061"
      ]
     },
     "execution_count": 18,
     "metadata": {},
     "output_type": "execute_result"
    }
   ],
   "source": [
    "(1222530.612244898-1248000.0) / 1248000.0"
   ]
  },
  {
   "cell_type": "code",
   "execution_count": null,
   "metadata": {},
   "outputs": [],
   "source": [
    "x = np.linspace(0, 20, 100);\n",
    "for i in range(1000):\n",
    "    if 59904000 % (i+1) == 0:\n",
    "        print(59904000/(i+1))"
   ]
  }
 ],
 "metadata": {
  "kernelspec": {
   "display_name": "Python 3",
   "language": "python",
   "name": "python3"
  },
  "language_info": {
   "codemirror_mode": {
    "name": "ipython",
    "version": 3
   },
   "file_extension": ".py",
   "mimetype": "text/x-python",
   "name": "python",
   "nbconvert_exporter": "python",
   "pygments_lexer": "ipython3",
   "version": "3.5.3"
  }
 },
 "nbformat": 4,
 "nbformat_minor": 2
}
